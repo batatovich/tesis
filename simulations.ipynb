{
 "cells": [
  {
   "cell_type": "code",
   "execution_count": 1,
   "source": [
    "import matplotlib.pyplot as plt\r\n",
    "import random as random\r\n",
    "import networkx as nx\r\n",
    "import graphs\r\n",
    "import models\r\n",
    "from scipy.optimize import curve_fit\r\n",
    "from tqdm import tqdm\r\n",
    "import numpy as np"
   ],
   "outputs": [],
   "metadata": {}
  },
  {
   "cell_type": "code",
   "execution_count": 2,
   "source": [
    "def Sim(G, nSIR, betas, g, I0):\r\n",
    "    N = G.number_of_nodes() #Population size\r\n",
    "    R = []\r\n",
    "    for b in betas:\r\n",
    "        model = models.SIR(G,N,b,g,I0)\r\n",
    "        max_it = 20000 #Stop simulation at this iteration.\r\n",
    "        aux_R = []\r\n",
    "        for j in range(0,nSIR): \r\n",
    "            iterations = []\r\n",
    "            for i in range(0, max_it): #Steps of the SIR\r\n",
    "                it = model.iteration() #Iterates the model\r\n",
    "                iterations.append(it) #Saves the iteration\r\n",
    "                state = it['node_count'] \r\n",
    "                if state[1] == 0: #Checks it the number of Infected is zero\r\n",
    "                    break\r\n",
    "            it = iterations[len(iterations)-1] #Last iteration of the model\r\n",
    "            state = it['node_count']\r\n",
    "            aux_R.append(state[2]) #Appends number of recovered in the aux_R list\r\n",
    "        R.append(sum(aux_R)/len(aux_R)) #Appends number of recovered mean value for each SIR simulation\r\n",
    "    return R"
   ],
   "outputs": [],
   "metadata": {}
  },
  {
   "cell_type": "code",
   "execution_count": 44,
   "source": [
    "betas = np.linspace(0,1,40) #Values of beta to be used in the SIR model.\r\n",
    "g = 1 #Recovery rate\r\n",
    "nG = 50 #Number of graphs to be generated to model the SIR.\r\n",
    "I0 = 1 #Initial number of infected people.\r\n",
    "nSIR = 100 #Number of times we want to simulate SIR \r\n",
    "#Use the parameters below to obtain same mean degree in all graphs\r\n",
    "#G_klemm = graphs.klemm_eguiluz(3,10000)\r\n",
    "#G_barabasi = graphs.barabasi_albert(10000,3)\r\n",
    "#G_erdos = graphs.erdos_renyi(10000,0.00065)\r\n",
    "#G_strogatz = graphs.watts_strogatz(10000,7,0.1)"
   ],
   "outputs": [],
   "metadata": {}
  },
  {
   "cell_type": "code",
   "execution_count": 32,
   "source": [
    "Rs = []\r\n",
    "for k in tqdm(range(0,nG)):\r\n",
    "    G = graphs.barabasi_albert(10000,3)\r\n",
    "    R = Sim(G, nSIR, betas, g, I0)\r\n",
    "    Rs.append(R) #Saves the mean value of R for each SIR simulation\r\n",
    "avg_R_barabasi = [sum([R[i] for R in Rs])/nG for i in range(0,len(betas))]\r\n"
   ],
   "outputs": [
    {
     "output_type": "stream",
     "name": "stderr",
     "text": [
      "100%|██████████| 75/75 [24:18<00:00, 19.44s/it]\n"
     ]
    }
   ],
   "metadata": {}
  },
  {
   "cell_type": "code",
   "execution_count": 36,
   "source": [
    "figure = plt.figure(figsize = (10,5))\r\n",
    "plt.plot(betas, avg_R_klemm, '.', mfc ='none', label = 'Klemm-Eguiluz',alpha = 0.5)\r\n",
    "plt.plot(betas, avg_R_erdos, '.', mfc ='none', label = 'Erdos-Renyi',alpha = 0.5)\r\n",
    "plt.plot(betas, avg_R_strogatz, '.', mfc='none', label = 'Watts-Strogatz',alpha = 0.5)\r\n",
    "plt.plot(betas, avg_R_barabasi, '.', mfc ='none', label = 'Barabasi',alpha = 0.5)\r\n",
    "plt.legend(loc = 'best')\r\n",
    "plt.ylabel('Fraction of recovered')\r\n",
    "plt.xlabel('Beta')\r\n",
    "plt.title(' N = 10.000 ')\r\n",
    "plt.show()"
   ],
   "outputs": [
    {
     "output_type": "display_data",
     "data": {
      "image/png": "[encoded data removed]",
      "text/plain": [
       "<Figure size 720x360 with 1 Axes>"
      ]
     },
     "metadata": {
      "needs_background": "light"
     }
    }
   ],
   "metadata": {}
  },
  {
   "cell_type": "code",
   "execution_count": 49,
   "source": [
    "Rs = []\r\n",
    "beta = [0.7] #Fixed beta value\r\n",
    "avg_R_klemm_b7 = []\r\n",
    "Ns = [5000,6000,7000,8000,9000,10000,11000,12000,13000,14000,15000,16000]\r\n",
    "for Nx in tqdm(Ns): \r\n",
    "    for k in range(0,nG):\r\n",
    "        G = graphs.klemm_eguiluz(3,Nx) #Creates graph\r\n",
    "        R = Sim(G, nSIR, beta, g, I0)\r\n",
    "        Rs.append(R) #Saves the mean value of R for each SIR simulation\r\n",
    "    avg_R_klemm_b7.append([sum([R[0] for R in Rs])/nG])"
   ],
   "outputs": [
    {
     "output_type": "stream",
     "name": "stderr",
     "text": [
      "100%|██████████| 12/12 [37:45<00:00, 188.76s/it]\n"
     ]
    }
   ],
   "metadata": {}
  },
  {
   "cell_type": "code",
   "execution_count": 51,
   "source": [
    "plt.plot(Ns, avg_R_klemm_b7,'.' ,mfc ='none', label = 'beta = 0.7',alpha = 0.5)\r\n",
    "plt.title('Beta = 0.7 for Klemm-Eguiluz')\r\n",
    "plt.ylabel('Fraction of recovered')\r\n",
    "plt.xlabel('N')\r\n",
    "plt.show()"
   ],
   "outputs": [
    {
     "output_type": "display_data",
     "data": {
      "image/png": "[encoded data removed]",
      "text/plain": [
       "<Figure size 432x288 with 1 Axes>"
      ]
     },
     "metadata": {
      "needs_background": "light"
     }
    }
   ],
   "metadata": {}
  },
  {
   "cell_type": "code",
   "execution_count": 53,
   "source": [
    "with open('klemm_b7_RvsN.txt', 'w') as f:\r\n",
    "    for item in avg_R_klemm_b7:\r\n",
    "        f.write(\"%s\\n\" % item[0])"
   ],
   "outputs": [],
   "metadata": {}
  }
 ],
 "metadata": {
  "orig_nbformat": 4,
  "language_info": {
   "name": "python",
   "version": "3.9.7",
   "mimetype": "text/x-python",
   "codemirror_mode": {
    "name": "ipython",
    "version": 3
   },
   "pygments_lexer": "ipython3",
   "nbconvert_exporter": "python",
   "file_extension": ".py"
  },
  "kernelspec": {
   "name": "python3",
   "display_name": "Python 3.9.7 64-bit"
  },
  "interpreter": {
   "hash": "49c8d76ad610bdbd1f6f150a3e48688331f2e17ec8bfc203aaf6bc9f3d5e5abb"
  }
 },
 "nbformat": 4,
 "nbformat_minor": 2
}